{
 "cells": [
  {
   "cell_type": "code",
   "execution_count": 2,
   "id": "4f830288",
   "metadata": {},
   "outputs": [],
   "source": [
    "import pandas as pd  #Task1"
   ]
  },
  {
   "cell_type": "code",
   "execution_count": 3,
   "id": "cd84e9da",
   "metadata": {},
   "outputs": [],
   "source": [
    "df=pd.read_csv('jsrt_metadata.csv')"
   ]
  },
  {
   "cell_type": "code",
   "execution_count": 4,
   "id": "b377cdde",
   "metadata": {},
   "outputs": [
    {
     "data": {
      "text/html": [
       "<div>\n",
       "<style scoped>\n",
       "    .dataframe tbody tr th:only-of-type {\n",
       "        vertical-align: middle;\n",
       "    }\n",
       "\n",
       "    .dataframe tbody tr th {\n",
       "        vertical-align: top;\n",
       "    }\n",
       "\n",
       "    .dataframe thead th {\n",
       "        text-align: right;\n",
       "    }\n",
       "</style>\n",
       "<table border=\"1\" class=\"dataframe\">\n",
       "  <thead>\n",
       "    <tr style=\"text-align: right;\">\n",
       "      <th></th>\n",
       "      <th>study_id</th>\n",
       "      <th>subtlety</th>\n",
       "      <th>size</th>\n",
       "      <th>age</th>\n",
       "      <th>gender</th>\n",
       "      <th>x</th>\n",
       "      <th>y</th>\n",
       "      <th>state</th>\n",
       "      <th>position</th>\n",
       "      <th>diagnosis</th>\n",
       "    </tr>\n",
       "  </thead>\n",
       "  <tbody>\n",
       "    <tr>\n",
       "      <th>0</th>\n",
       "      <td>JPCLN001.png</td>\n",
       "      <td>5.0</td>\n",
       "      <td>15.0</td>\n",
       "      <td>53</td>\n",
       "      <td>Male</td>\n",
       "      <td>1634.0</td>\n",
       "      <td>692.0</td>\n",
       "      <td>malignant</td>\n",
       "      <td>l.upper lobe</td>\n",
       "      <td>lung cancer</td>\n",
       "    </tr>\n",
       "    <tr>\n",
       "      <th>1</th>\n",
       "      <td>JPCLN002.png</td>\n",
       "      <td>5.0</td>\n",
       "      <td>30.0</td>\n",
       "      <td>78</td>\n",
       "      <td>Female</td>\n",
       "      <td>1614.0</td>\n",
       "      <td>1090.0</td>\n",
       "      <td>benign</td>\n",
       "      <td>l.upper lobe(S5)</td>\n",
       "      <td>pulmonary hematoma</td>\n",
       "    </tr>\n",
       "    <tr>\n",
       "      <th>2</th>\n",
       "      <td>JPCLN003.png</td>\n",
       "      <td>5.0</td>\n",
       "      <td>30.0</td>\n",
       "      <td>63</td>\n",
       "      <td>Female</td>\n",
       "      <td>1303.0</td>\n",
       "      <td>447.0</td>\n",
       "      <td>malignant</td>\n",
       "      <td>l.upper lobe(S1+2)</td>\n",
       "      <td>lung cancer</td>\n",
       "    </tr>\n",
       "    <tr>\n",
       "      <th>3</th>\n",
       "      <td>JPCLN004.png</td>\n",
       "      <td>5.0</td>\n",
       "      <td>14.0</td>\n",
       "      <td>68</td>\n",
       "      <td>Female</td>\n",
       "      <td>606.0</td>\n",
       "      <td>836.0</td>\n",
       "      <td>benign</td>\n",
       "      <td>r.upper lobe</td>\n",
       "      <td>Inflammatory mass</td>\n",
       "    </tr>\n",
       "    <tr>\n",
       "      <th>4</th>\n",
       "      <td>JPCLN005.png</td>\n",
       "      <td>5.0</td>\n",
       "      <td>35.0</td>\n",
       "      <td>73</td>\n",
       "      <td>Female</td>\n",
       "      <td>1438.0</td>\n",
       "      <td>692.0</td>\n",
       "      <td>malignant</td>\n",
       "      <td>l.upper lobe(S3)</td>\n",
       "      <td>lung cancer</td>\n",
       "    </tr>\n",
       "    <tr>\n",
       "      <th>...</th>\n",
       "      <td>...</td>\n",
       "      <td>...</td>\n",
       "      <td>...</td>\n",
       "      <td>...</td>\n",
       "      <td>...</td>\n",
       "      <td>...</td>\n",
       "      <td>...</td>\n",
       "      <td>...</td>\n",
       "      <td>...</td>\n",
       "      <td>...</td>\n",
       "    </tr>\n",
       "    <tr>\n",
       "      <th>242</th>\n",
       "      <td>JPCNN089.png</td>\n",
       "      <td>NaN</td>\n",
       "      <td>NaN</td>\n",
       "      <td>50</td>\n",
       "      <td>Male</td>\n",
       "      <td>NaN</td>\n",
       "      <td>NaN</td>\n",
       "      <td>non-nodule</td>\n",
       "      <td>NaN</td>\n",
       "      <td>NaN</td>\n",
       "    </tr>\n",
       "    <tr>\n",
       "      <th>243</th>\n",
       "      <td>JPCNN090.png</td>\n",
       "      <td>NaN</td>\n",
       "      <td>NaN</td>\n",
       "      <td>68</td>\n",
       "      <td>Female</td>\n",
       "      <td>NaN</td>\n",
       "      <td>NaN</td>\n",
       "      <td>non-nodule</td>\n",
       "      <td>NaN</td>\n",
       "      <td>NaN</td>\n",
       "    </tr>\n",
       "    <tr>\n",
       "      <th>244</th>\n",
       "      <td>JPCNN091.png</td>\n",
       "      <td>NaN</td>\n",
       "      <td>NaN</td>\n",
       "      <td>81</td>\n",
       "      <td>Male</td>\n",
       "      <td>NaN</td>\n",
       "      <td>NaN</td>\n",
       "      <td>non-nodule</td>\n",
       "      <td>NaN</td>\n",
       "      <td>NaN</td>\n",
       "    </tr>\n",
       "    <tr>\n",
       "      <th>245</th>\n",
       "      <td>JPCNN092.png</td>\n",
       "      <td>NaN</td>\n",
       "      <td>NaN</td>\n",
       "      <td>70</td>\n",
       "      <td>Female</td>\n",
       "      <td>NaN</td>\n",
       "      <td>NaN</td>\n",
       "      <td>non-nodule</td>\n",
       "      <td>NaN</td>\n",
       "      <td>NaN</td>\n",
       "    </tr>\n",
       "    <tr>\n",
       "      <th>246</th>\n",
       "      <td>JPCNN093.png</td>\n",
       "      <td>NaN</td>\n",
       "      <td>NaN</td>\n",
       "      <td>41</td>\n",
       "      <td>Male</td>\n",
       "      <td>NaN</td>\n",
       "      <td>NaN</td>\n",
       "      <td>non-nodule</td>\n",
       "      <td>NaN</td>\n",
       "      <td>NaN</td>\n",
       "    </tr>\n",
       "  </tbody>\n",
       "</table>\n",
       "<p>247 rows × 10 columns</p>\n",
       "</div>"
      ],
      "text/plain": [
       "         study_id  subtlety  size age  gender       x       y       state  \\\n",
       "0    JPCLN001.png       5.0  15.0  53    Male  1634.0   692.0   malignant   \n",
       "1    JPCLN002.png       5.0  30.0  78  Female  1614.0  1090.0      benign   \n",
       "2    JPCLN003.png       5.0  30.0  63  Female  1303.0   447.0   malignant   \n",
       "3    JPCLN004.png       5.0  14.0  68  Female   606.0   836.0      benign   \n",
       "4    JPCLN005.png       5.0  35.0  73  Female  1438.0   692.0   malignant   \n",
       "..            ...       ...   ...  ..     ...     ...     ...         ...   \n",
       "242  JPCNN089.png       NaN   NaN  50    Male     NaN     NaN  non-nodule   \n",
       "243  JPCNN090.png       NaN   NaN  68  Female     NaN     NaN  non-nodule   \n",
       "244  JPCNN091.png       NaN   NaN  81    Male     NaN     NaN  non-nodule   \n",
       "245  JPCNN092.png       NaN   NaN  70  Female     NaN     NaN  non-nodule   \n",
       "246  JPCNN093.png       NaN   NaN  41    Male     NaN     NaN  non-nodule   \n",
       "\n",
       "               position           diagnosis  \n",
       "0          l.upper lobe         lung cancer  \n",
       "1      l.upper lobe(S5)  pulmonary hematoma  \n",
       "2    l.upper lobe(S1+2)         lung cancer  \n",
       "3          r.upper lobe   Inflammatory mass  \n",
       "4      l.upper lobe(S3)         lung cancer  \n",
       "..                  ...                 ...  \n",
       "242                 NaN                 NaN  \n",
       "243                 NaN                 NaN  \n",
       "244                 NaN                 NaN  \n",
       "245                 NaN                 NaN  \n",
       "246                 NaN                 NaN  \n",
       "\n",
       "[247 rows x 10 columns]"
      ]
     },
     "execution_count": 4,
     "metadata": {},
     "output_type": "execute_result"
    }
   ],
   "source": [
    "df"
   ]
  },
  {
   "cell_type": "code",
   "execution_count": 5,
   "id": "1411bc5b",
   "metadata": {},
   "outputs": [
    {
     "data": {
      "text/plain": [
       "0             lung cancer\n",
       "1      pulmonary hematoma\n",
       "2             lung cancer\n",
       "3       Inflammatory mass\n",
       "4             lung cancer\n",
       "              ...        \n",
       "242                   NaN\n",
       "243                   NaN\n",
       "244                   NaN\n",
       "245                   NaN\n",
       "246                   NaN\n",
       "Name: diagnosis, Length: 247, dtype: object"
      ]
     },
     "execution_count": 5,
     "metadata": {},
     "output_type": "execute_result"
    }
   ],
   "source": [
    "df['diagnosis']"
   ]
  },
  {
   "cell_type": "code",
   "execution_count": 6,
   "id": "e237b85f",
   "metadata": {},
   "outputs": [
    {
     "data": {
      "text/html": [
       "<div>\n",
       "<style scoped>\n",
       "    .dataframe tbody tr th:only-of-type {\n",
       "        vertical-align: middle;\n",
       "    }\n",
       "\n",
       "    .dataframe tbody tr th {\n",
       "        vertical-align: top;\n",
       "    }\n",
       "\n",
       "    .dataframe thead th {\n",
       "        text-align: right;\n",
       "    }\n",
       "</style>\n",
       "<table border=\"1\" class=\"dataframe\">\n",
       "  <thead>\n",
       "    <tr style=\"text-align: right;\">\n",
       "      <th></th>\n",
       "      <th>study_id</th>\n",
       "      <th>subtlety</th>\n",
       "      <th>size</th>\n",
       "      <th>age</th>\n",
       "      <th>gender</th>\n",
       "      <th>x</th>\n",
       "      <th>y</th>\n",
       "      <th>state</th>\n",
       "      <th>position</th>\n",
       "      <th>diagnosis</th>\n",
       "    </tr>\n",
       "  </thead>\n",
       "  <tbody>\n",
       "    <tr>\n",
       "      <th>0</th>\n",
       "      <td>False</td>\n",
       "      <td>False</td>\n",
       "      <td>False</td>\n",
       "      <td>False</td>\n",
       "      <td>False</td>\n",
       "      <td>False</td>\n",
       "      <td>False</td>\n",
       "      <td>False</td>\n",
       "      <td>False</td>\n",
       "      <td>False</td>\n",
       "    </tr>\n",
       "    <tr>\n",
       "      <th>1</th>\n",
       "      <td>False</td>\n",
       "      <td>False</td>\n",
       "      <td>False</td>\n",
       "      <td>False</td>\n",
       "      <td>False</td>\n",
       "      <td>False</td>\n",
       "      <td>False</td>\n",
       "      <td>False</td>\n",
       "      <td>False</td>\n",
       "      <td>False</td>\n",
       "    </tr>\n",
       "    <tr>\n",
       "      <th>2</th>\n",
       "      <td>False</td>\n",
       "      <td>False</td>\n",
       "      <td>False</td>\n",
       "      <td>False</td>\n",
       "      <td>False</td>\n",
       "      <td>False</td>\n",
       "      <td>False</td>\n",
       "      <td>False</td>\n",
       "      <td>False</td>\n",
       "      <td>False</td>\n",
       "    </tr>\n",
       "    <tr>\n",
       "      <th>3</th>\n",
       "      <td>False</td>\n",
       "      <td>False</td>\n",
       "      <td>False</td>\n",
       "      <td>False</td>\n",
       "      <td>False</td>\n",
       "      <td>False</td>\n",
       "      <td>False</td>\n",
       "      <td>False</td>\n",
       "      <td>False</td>\n",
       "      <td>False</td>\n",
       "    </tr>\n",
       "    <tr>\n",
       "      <th>4</th>\n",
       "      <td>False</td>\n",
       "      <td>False</td>\n",
       "      <td>False</td>\n",
       "      <td>False</td>\n",
       "      <td>False</td>\n",
       "      <td>False</td>\n",
       "      <td>False</td>\n",
       "      <td>False</td>\n",
       "      <td>False</td>\n",
       "      <td>False</td>\n",
       "    </tr>\n",
       "    <tr>\n",
       "      <th>...</th>\n",
       "      <td>...</td>\n",
       "      <td>...</td>\n",
       "      <td>...</td>\n",
       "      <td>...</td>\n",
       "      <td>...</td>\n",
       "      <td>...</td>\n",
       "      <td>...</td>\n",
       "      <td>...</td>\n",
       "      <td>...</td>\n",
       "      <td>...</td>\n",
       "    </tr>\n",
       "    <tr>\n",
       "      <th>242</th>\n",
       "      <td>False</td>\n",
       "      <td>True</td>\n",
       "      <td>True</td>\n",
       "      <td>False</td>\n",
       "      <td>False</td>\n",
       "      <td>True</td>\n",
       "      <td>True</td>\n",
       "      <td>False</td>\n",
       "      <td>True</td>\n",
       "      <td>True</td>\n",
       "    </tr>\n",
       "    <tr>\n",
       "      <th>243</th>\n",
       "      <td>False</td>\n",
       "      <td>True</td>\n",
       "      <td>True</td>\n",
       "      <td>False</td>\n",
       "      <td>False</td>\n",
       "      <td>True</td>\n",
       "      <td>True</td>\n",
       "      <td>False</td>\n",
       "      <td>True</td>\n",
       "      <td>True</td>\n",
       "    </tr>\n",
       "    <tr>\n",
       "      <th>244</th>\n",
       "      <td>False</td>\n",
       "      <td>True</td>\n",
       "      <td>True</td>\n",
       "      <td>False</td>\n",
       "      <td>False</td>\n",
       "      <td>True</td>\n",
       "      <td>True</td>\n",
       "      <td>False</td>\n",
       "      <td>True</td>\n",
       "      <td>True</td>\n",
       "    </tr>\n",
       "    <tr>\n",
       "      <th>245</th>\n",
       "      <td>False</td>\n",
       "      <td>True</td>\n",
       "      <td>True</td>\n",
       "      <td>False</td>\n",
       "      <td>False</td>\n",
       "      <td>True</td>\n",
       "      <td>True</td>\n",
       "      <td>False</td>\n",
       "      <td>True</td>\n",
       "      <td>True</td>\n",
       "    </tr>\n",
       "    <tr>\n",
       "      <th>246</th>\n",
       "      <td>False</td>\n",
       "      <td>True</td>\n",
       "      <td>True</td>\n",
       "      <td>False</td>\n",
       "      <td>False</td>\n",
       "      <td>True</td>\n",
       "      <td>True</td>\n",
       "      <td>False</td>\n",
       "      <td>True</td>\n",
       "      <td>True</td>\n",
       "    </tr>\n",
       "  </tbody>\n",
       "</table>\n",
       "<p>247 rows × 10 columns</p>\n",
       "</div>"
      ],
      "text/plain": [
       "     study_id  subtlety   size    age  gender      x      y  state  position  \\\n",
       "0       False     False  False  False   False  False  False  False     False   \n",
       "1       False     False  False  False   False  False  False  False     False   \n",
       "2       False     False  False  False   False  False  False  False     False   \n",
       "3       False     False  False  False   False  False  False  False     False   \n",
       "4       False     False  False  False   False  False  False  False     False   \n",
       "..        ...       ...    ...    ...     ...    ...    ...    ...       ...   \n",
       "242     False      True   True  False   False   True   True  False      True   \n",
       "243     False      True   True  False   False   True   True  False      True   \n",
       "244     False      True   True  False   False   True   True  False      True   \n",
       "245     False      True   True  False   False   True   True  False      True   \n",
       "246     False      True   True  False   False   True   True  False      True   \n",
       "\n",
       "     diagnosis  \n",
       "0        False  \n",
       "1        False  \n",
       "2        False  \n",
       "3        False  \n",
       "4        False  \n",
       "..         ...  \n",
       "242       True  \n",
       "243       True  \n",
       "244       True  \n",
       "245       True  \n",
       "246       True  \n",
       "\n",
       "[247 rows x 10 columns]"
      ]
     },
     "execution_count": 6,
     "metadata": {},
     "output_type": "execute_result"
    }
   ],
   "source": [
    "df.isnull()"
   ]
  },
  {
   "cell_type": "code",
   "execution_count": 7,
   "id": "8d99823a",
   "metadata": {},
   "outputs": [
    {
     "data": {
      "text/plain": [
       "study_id      0\n",
       "subtlety     93\n",
       "size         93\n",
       "age           0\n",
       "gender        0\n",
       "x            93\n",
       "y            93\n",
       "state         0\n",
       "position     93\n",
       "diagnosis    93\n",
       "dtype: int64"
      ]
     },
     "execution_count": 7,
     "metadata": {},
     "output_type": "execute_result"
    }
   ],
   "source": [
    "df.isnull().sum()"
   ]
  },
  {
   "cell_type": "code",
   "execution_count": 8,
   "id": "1be4100f",
   "metadata": {},
   "outputs": [
    {
     "data": {
      "text/plain": [
       "0            lung cancer\n",
       "1     pulmonary hematoma\n",
       "2            lung cancer\n",
       "3      Inflammatory mass\n",
       "4            lung cancer\n",
       "5            tuberculoma\n",
       "6            lung cancer\n",
       "7              granuloma\n",
       "8            lung cancer\n",
       "9            lung cancer\n",
       "10           tuberculoma\n",
       "11           lung cancer\n",
       "12           tuberculoma\n",
       "13           lung cancer\n",
       "14           lung cancer\n",
       "Name: diagnosis, dtype: object"
      ]
     },
     "execution_count": 8,
     "metadata": {},
     "output_type": "execute_result"
    }
   ],
   "source": [
    "df['diagnosis'].head(15)"
   ]
  },
  {
   "cell_type": "code",
   "execution_count": 9,
   "id": "8b0a023d",
   "metadata": {},
   "outputs": [],
   "source": [
    "m = df['diagnosis'].value_counts()"
   ]
  },
  {
   "cell_type": "code",
   "execution_count": 10,
   "id": "80fbfa3c",
   "metadata": {},
   "outputs": [
    {
     "data": {
      "text/plain": [
       "lung cancer                                       56\n",
       "lung cancer(adenocarcinoma)                       23\n",
       "tuberculoma                                       14\n",
       "granuloma                                          8\n",
       "lung cancer(bronchioloalveolar cell carcinoma)     7\n",
       "unknown                                            4\n",
       "metastasis of colon cancer                         4\n",
       "inflammatory mass                                  4\n",
       "pulmonary tuberculosis                             3\n",
       "lung abscess                                       2\n",
       "Cryptococcosis                                     2\n",
       "lung cancer(squamous cell carcinoma)               2\n",
       "Inflammatory mass                                  2\n",
       "pulmonary hematoma                                 2\n",
       "susp. inflammatory mass                            2\n",
       "hamartoma                                          2\n",
       "sclerosing hemangioma                              2\n",
       "lung cancer(large cell carcinoma)                  1\n",
       "susp. hamartoma                                    1\n",
       "metastasis of uterine cancer                       1\n",
       "organizing pneumonia                               1\n",
       "metastasis of ovarian cancer                       1\n",
       "metastatic lung cancer                             1\n",
       "lung canceror metastasis                           1\n",
       "pneumonia                                          1\n",
       "calcified granuloma                                1\n",
       "lung cancer(adenosquamous carcinoma)               1\n",
       "lung cancer(small cell carcinoma)                  1\n",
       "susp.tuberculoma                                   1\n",
       "organiging pneumonia                               1\n",
       "susp. sclerosing hemangioma                        1\n",
       "susp. lung metastasis                              1\n",
       "Name: diagnosis, dtype: int64"
      ]
     },
     "execution_count": 10,
     "metadata": {},
     "output_type": "execute_result"
    }
   ],
   "source": [
    "m"
   ]
  },
  {
   "cell_type": "code",
   "execution_count": 11,
   "id": "90986b41",
   "metadata": {},
   "outputs": [],
   "source": [
    "v=sum(m)\n"
   ]
  },
  {
   "cell_type": "code",
   "execution_count": 12,
   "id": "df5a84d9",
   "metadata": {},
   "outputs": [
    {
     "data": {
      "text/plain": [
       "154"
      ]
     },
     "execution_count": 12,
     "metadata": {},
     "output_type": "execute_result"
    }
   ],
   "source": [
    "v"
   ]
  },
  {
   "cell_type": "code",
   "execution_count": 14,
   "id": "50ae1bbc",
   "metadata": {},
   "outputs": [],
   "source": [
    "import matplotlib as plt\n",
    "from matplotlib import pyplot\n"
   ]
  },
  {
   "cell_type": "code",
   "execution_count": 17,
   "id": "0a484691",
   "metadata": {},
   "outputs": [
    {
     "data": {
      "text/plain": [
       "(array([27.,  2.,  1.,  0.,  1.,  0.,  0.,  0.,  0.,  1.]),\n",
       " array([ 1. ,  6.5, 12. , 17.5, 23. , 28.5, 34. , 39.5, 45. , 50.5, 56. ]),\n",
       " <BarContainer object of 10 artists>)"
      ]
     },
     "execution_count": 17,
     "metadata": {},
     "output_type": "execute_result"
    },
    {
     "data": {
      "image/png": "[encoded data removed]",
      "text/plain": [
       "<Figure size 432x288 with 1 Axes>"
      ]
     },
     "metadata": {
      "needs_background": "light"
     },
     "output_type": "display_data"
    }
   ],
   "source": [
    "plt.pyplot.hist(df['diagnosis'].value_counts())"
   ]
  },
  {
   "cell_type": "code",
   "execution_count": 18,
   "id": "dc7bcbc6",
   "metadata": {},
   "outputs": [
    {
     "data": {
      "text/plain": [
       "(array([27.,  2.,  1.,  0.,  1.,  0.,  0.,  0.,  0.,  1.]),\n",
       " array([ 1. ,  6.5, 12. , 17.5, 23. , 28.5, 34. , 39.5, 45. , 50.5, 56. ]),\n",
       " <BarContainer object of 10 artists>)"
      ]
     },
     "execution_count": 18,
     "metadata": {},
     "output_type": "execute_result"
    },
    {
     "data": {
      "image/png": "[encoded data removed]",
      "text/plain": [
       "<Figure size 432x288 with 1 Axes>"
      ]
     },
     "metadata": {
      "needs_background": "light"
     },
     "output_type": "display_data"
    }
   ],
   "source": [
    "plt.pyplot.title(\"Task 1\")\n",
    "plt.pyplot.xlabel(\"X-Axis\")\n",
    "plt.pyplot.ylabel(\"Y-Axis\")\n",
    "plt.pyplot.hist(df['diagnosis'].value_counts())"
   ]
  },
  {
   "cell_type": "code",
   "execution_count": null,
   "id": "81f818d2",
   "metadata": {},
   "outputs": [],
   "source": [
    "# Task 1 finished#"
   ]
  },
  {
   "cell_type": "code",
   "execution_count": null,
   "id": "7a7c2a1a",
   "metadata": {},
   "outputs": [],
   "source": []
  },
  {
   "cell_type": "code",
   "execution_count": null,
   "id": "6f25bb71",
   "metadata": {},
   "outputs": [],
   "source": []
  },
  {
   "cell_type": "code",
   "execution_count": null,
   "id": "24d3d1e7",
   "metadata": {},
   "outputs": [],
   "source": []
  },
  {
   "cell_type": "code",
   "execution_count": null,
   "id": "6cc1d8e7",
   "metadata": {},
   "outputs": [],
   "source": []
  }
 ],
 "metadata": {
  "kernelspec": {
   "display_name": "Python 3 (ipykernel)",
   "language": "python",
   "name": "python3"
  },
  "language_info": {
   "codemirror_mode": {
    "name": "ipython",
    "version": 3
   },
   "file_extension": ".py",
   "mimetype": "text/x-python",
   "name": "python",
   "nbconvert_exporter": "python",
   "pygments_lexer": "ipython3",
   "version": "3.9.7"
  }
 },
 "nbformat": 4,
 "nbformat_minor": 5
}
